{
 "cells": [
  {
   "cell_type": "markdown",
   "id": "63cbc0ea-7cd4-4438-bb32-5b9426d83e09",
   "metadata": {},
   "source": [
    "CS417 Assignment 4: Getting your feet wet in Python\n",
    "---\n",
    "# Instructions\n",
    "Each of the following questions is followed by empty code cell. Add your code for the question to the cell and then execute that cell.  Submit the completed notebook by saving it in your GitHub repository and note in your submission on Blackboard where I can find the file.\n"
   ]
  },
  {
   "cell_type": "markdown",
   "id": "9465d6e4-f49c-438e-9a1d-ccf418e2fed9",
   "metadata": {},
   "source": [
    "## Problem 1 (Easy)\n",
    "Write a word frequency counter: How often does each word\n",
    "  show up in an array of words? Print out a report. (Hint: Use a dictionary to\n",
    "  count of the number of appearances of each word.)"
   ]
  },
  {
   "cell_type": "code",
   "execution_count": 3,
   "id": "366de7f5-8efd-4964-afb2-12734c2142e2",
   "metadata": {},
   "outputs": [
    {
     "name": "stdout",
     "output_type": "stream",
     "text": [
      "{'green': 3, 'yellow': 1, 'red': 1, 'blue': 2}\n"
     ]
    }
   ],
   "source": [
    "wordArray = [\"green\", \"yellow\", \"green\", \"red\", \"blue\", \"blue\", \"green\"]\n",
    "# https://stackoverflow.com/questions/20510768/count-frequency-of-words-in-a-list-and-sort-by-frequency\n",
    "\n",
    "\n",
    "def freqCount(words):\n",
    "    dic = {}\n",
    "    for x in words:\n",
    "        if x not in dic:\n",
    "            dic[x] = words.count(x)\n",
    "    return dic\n",
    "\n",
    "\n",
    "dictionary = freqCount(wordArray)\n",
    "print(dictionary)"
   ]
  },
  {
   "cell_type": "markdown",
   "id": "15b4b2ce-9118-4abb-9bbf-ed787721f87c",
   "metadata": {},
   "source": [
    "## Problem 2 (Easy)\n",
    "Given a month and the day of the week that’s the first of\n",
    "  that month entered as arugments on the command line, write a program\n",
    "  that prints a calendar for the month. (HINT: Remember one of the rules of being Pythonic: *Someone else has already done it*.  Do some research to see if you can find a Python library that will help you with this problem)."
   ]
  },
  {
   "cell_type": "code",
   "execution_count": 4,
   "id": "2b365fa9-c81c-4149-9e8f-eda14255d50c",
   "metadata": {},
   "outputs": [
    {
     "name": "stdout",
     "output_type": "stream",
     "text": [
      "0 : Monday\n",
      "1 : Tuesday\n",
      "2 : Wednesday\n",
      "3 : Thursday\n",
      "4 : Friday\n",
      "5 : Saturday\n",
      "6 : Sunday\n",
      "\n",
      "1 : January\n",
      "2 : February\n",
      "3 : March\n",
      "4 : April\n",
      "5 : May\n",
      "6 : June\n",
      "7 : July\n",
      "8 : August\n",
      "9 : September\n",
      "10 : October\n",
      "11 : November\n",
      "12 : December\n",
      "\n",
      "Calendar for May\n",
      "                   1 \n",
      " 2  3  4  5  6  7  8 \n",
      " 9 10 11 12 13 14 15 \n",
      "16 17 18 19 20 21 22 \n",
      "23 24 25 26 27 28 29 \n",
      "30 31       \n"
     ]
    }
   ],
   "source": [
    "import calendar # https://www.knowprogram.com/python/print-calendar-python/\n",
    "\n",
    "print(\"0 : Monday\\n1 : Tuesday\\n2 : Wednesday\\n3 : Thursday\\n4 : Friday\\n5 : Saturday\\n6 : Sunday\\n\")\n",
    "firstWeekDayInt = int(input(\"Enter the first weekday 0-6: \"))\n",
    "\n",
    "print(\"1 : January\\n2 : February\\n3 : March\\n4 : April\\n5 : May\\n6 : June\\n7 : July\\n\"\n",
    "      \"8 : August\\n9 : September\\n10 : October\\n11 : November\\n12 : December\\n\")\n",
    "currentMonthInt = int(input(\"Enter the month 1-12: \"))\n",
    "\n",
    "spaceWidth = 3\n",
    "leadingSpaces = (firstWeekDayInt - 0 + 7) % 7\n",
    "maxDays = calendar.monthrange(2023, currentMonthInt)[1]\n",
    "\n",
    "print(f\"Calendar for {calendar.month_name[currentMonthInt]}\")\n",
    "print(\" \" * (leadingSpaces * spaceWidth), end=\"\")\n",
    "\n",
    "for day in range(1, maxDays + 1):\n",
    "    print(f\"{day:2d} \".rjust(spaceWidth), end=\"\")\n",
    "    leadingSpaces = (leadingSpaces + 1) % 7\n",
    "    if leadingSpaces == 0:\n",
    "        print()\n",
    "\n",
    "if leadingSpaces > 0:\n",
    "    print(\" \" * (leadingSpaces * spaceWidth))"
   ]
  },
  {
   "cell_type": "markdown",
   "id": "a7e29bca-2e3e-4cb2-a768-47215582850e",
   "metadata": {},
   "source": [
    "## Problem 3 (Easy)\n",
    "Write a function that counts the the characters in a\n",
    "  string input by the user.  Write a main function that calls this\n",
    "  function and displays the string and number of characters."
   ]
  },
  {
   "cell_type": "code",
   "execution_count": 5,
   "id": "f6189d14-e493-4473-a9cd-bffc9560160c",
   "metadata": {},
   "outputs": [
    {
     "name": "stdout",
     "output_type": "stream",
     "text": [
      "String: Hello there, count the chars.\n",
      "Number of Characters: 29\n"
     ]
    }
   ],
   "source": [
    "def charCounter(userString):\n",
    "    char_count = len(userString)\n",
    "    print(f\"String: {userString}\\nNumber of Characters: {char_count}\")\n",
    "\n",
    "\n",
    "userString = input(\"Enter a string: \")\n",
    "charCounter(userString)"
   ]
  },
  {
   "cell_type": "markdown",
   "id": "d460ad3f",
   "metadata": {},
   "source": [
    "# Problem 4 (Moderate, but Painfully Simple)\n",
    "\n",
    "You are writing a test framework in Python and you need to determine what are the attributes and methods of an object.    Write a function (whose body, if you're careful about it, need only be a single statement) that returns a list of the attributes and methods of an object passed to it as an argument."
   ]
  },
  {
   "cell_type": "code",
   "execution_count": 6,
   "id": "6dcfd557",
   "metadata": {},
   "outputs": [
    {
     "name": "stdout",
     "output_type": "stream",
     "text": [
      "['a', 'b', 'method']\n"
     ]
    }
   ],
   "source": [
    "class TestClass:\n",
    "    def __init__(self):\n",
    "        self.a = \"test\"\n",
    "        self.b = 7\n",
    "\n",
    "    def method(self):\n",
    "        pass\n",
    "\n",
    "\n",
    "def classInspector(obj):\n",
    "    unfilteredClass = dir(obj)\n",
    "    onlyAttributesMethods = [x for x in unfilteredClass if not x.startswith('__')]\n",
    "    return onlyAttributesMethods\n",
    "\n",
    "\n",
    "classList = classInspector(TestClass())\n",
    "print(classList)"
   ]
  },
  {
   "cell_type": "markdown",
   "id": "72dc799e",
   "metadata": {},
   "source": [
    "# Problem 5 (Moderate)\n",
    "\n",
    "One can parse a fully-parenthesized in-fix expression using two stacks: an operand stack and an operator stack.   You traverse your way through a string containing such an expression and push numbers onto the operand stack and operators onto the operator stack.   When you see a right parenthsis character,  pop two numbers off of the operand stack and pop an operator off of the operator stack, do the operation (add, subtract, multiply, or divide), and push the result back onto the operand stack.   When you reach the end of the expression string, the number on the top of the operand stack is the result (assuming a correctly formatted expression).\n",
    "\n",
    "Write a function in Python that, given a fully-parenthesized in-fix expression in a string, returns the result of evaluating that expression."
   ]
  },
  {
   "cell_type": "code",
   "execution_count": 7,
   "id": "3a5e579f",
   "metadata": {},
   "outputs": [
    {
     "name": "stdout",
     "output_type": "stream",
     "text": [
      "5.0\n"
     ]
    }
   ],
   "source": [
    "def solveExpression(expression): # https://www.geeksforgeeks.org/evaluation-of-postfix-expression/\n",
    "    def applyOperator(op, operands):\n",
    "        right, left = operands.pop(), operands.pop()\n",
    "        operands.append(eval(f'{left}{op}{right}'))\n",
    "\n",
    "    operators, operands = [], []\n",
    "\n",
    "    for char in expression:\n",
    "        if char.isdigit():\n",
    "            operands.append(int(char))\n",
    "        elif char in \"+-*/\":\n",
    "            while operators and operators[-1] in \"+-*/\" and (char in \"+-\" and operators[-1] in \"*/\"):\n",
    "                applyOperator(operators.pop(), operands)\n",
    "            operators.append(char)\n",
    "        elif char == '(':\n",
    "            operators.append(char)\n",
    "        elif char == ')':\n",
    "            while operators[-1] != '(':\n",
    "                applyOperator(operators.pop(), operands)\n",
    "            operators.pop()\n",
    "\n",
    "    while operators:\n",
    "        applyOperator(operators.pop(), operands)\n",
    "\n",
    "    return operands[0]\n",
    "\n",
    "\n",
    "expression = \"(6+1)*(5-4)-(6/3)\"\n",
    "solvedExpression = solveExpression(expression)\n",
    "print(solvedExpression)"
   ]
  }
 ],
 "metadata": {
  "kernelspec": {
   "display_name": "Python 3.10.6 64-bit",
   "language": "python",
   "name": "python3"
  },
  "language_info": {
   "codemirror_mode": {
    "name": "ipython",
    "version": 3
   },
   "file_extension": ".py",
   "mimetype": "text/x-python",
   "name": "python",
   "nbconvert_exporter": "python",
   "pygments_lexer": "ipython3",
   "version": "3.10.0"
  },
  "vscode": {
   "interpreter": {
    "hash": "b0fa6594d8f4cbf19f97940f81e996739fb7646882a419484c72d19e05852a7e"
   }
  }
 },
 "nbformat": 4,
 "nbformat_minor": 5
}
