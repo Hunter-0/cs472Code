{
 "cells": [
  {
   "cell_type": "markdown",
   "metadata": {},
   "source": [
    "**Assignment**:  Applying the SOLID Principles in Python\n",
    "\n",
    "For each of the five SOLID principles, provide a example in Python that illustrates the design prinicple.\n",
    "\n",
    "| | Principle |\n",
    "|:-:|-----------|\n",
    "| S | Single Responsibility Principle |\n",
    "| O | Open-Closed Principle |\n",
    "| L | Liskhov Substitution Principle |\n",
    "| I | Interface Segregation Principle |\n",
    "| D | Dependency Inversion Principle |\n",
    "\n",
    "\n",
    "1. S: Single Responsibility Principle"
   ]
  },
  {
   "cell_type": "code",
   "execution_count": 1,
   "metadata": {},
   "outputs": [
    {
     "name": "stdout",
     "output_type": "stream",
     "text": [
      "Hunter saved to database\n",
      "{'Hunter': {'name': 'Hunter'}}\n"
     ]
    }
   ],
   "source": [
    "class Person:\n",
    "    def __init__(self, name):\n",
    "        self.name = name\n",
    "\n",
    "    def __str__(self):\n",
    "        return self.name\n",
    "\n",
    "\n",
    "class DataStorage:\n",
    "    def __init__(self):\n",
    "        self.data = {}\n",
    "\n",
    "    def save(self, key, value):\n",
    "        self.data[key] = value\n",
    "\n",
    "    def get(self, key):\n",
    "        return self.data.get(key)\n",
    "\n",
    "\n",
    "class PersonDB:\n",
    "    def __init__(self, dataStorage):\n",
    "        self.dataStorage = dataStorage\n",
    "\n",
    "    def save(self, person):\n",
    "        self.dataStorage.save(person.name, person.__dict__)\n",
    "        print('{} saved to database'.format(person))\n",
    "\n",
    "    def getAll(self):\n",
    "        return self.dataStorage.data\n",
    "\n",
    "\n",
    "if __name__ == '__main__':\n",
    "    p = Person('Hunter')\n",
    "    dataStorage = DataStorage()\n",
    "    db = PersonDB(dataStorage)\n",
    "    db.save(p)\n",
    "    print(db.getAll())"
   ]
  },
  {
   "cell_type": "markdown",
   "metadata": {},
   "source": [
    "2. O: Open Closed Principle"
   ]
  },
  {
   "cell_type": "code",
   "execution_count": 4,
   "metadata": {},
   "outputs": [
    {
     "name": "stdout",
     "output_type": "stream",
     "text": [
      "Area of Circle: 50.26544\n",
      "Area of Rectangle: 16\n"
     ]
    }
   ],
   "source": [
    "class Shape:\n",
    "    def area(self):\n",
    "        return 0\n",
    "\n",
    "\n",
    "class Circle(Shape):\n",
    "    def __init__(self, radius):\n",
    "        self.radius = radius\n",
    "\n",
    "    def area(self):\n",
    "        return 3.14159 * self.radius * self.radius\n",
    "\n",
    "\n",
    "class Rectangle(Shape):\n",
    "    def __init__(self, width, height):\n",
    "        self.width, self.height = width, height\n",
    "\n",
    "    def area(self):\n",
    "        return self.width * self.height\n",
    "\n",
    "\n",
    "shapes = [Circle(4), Rectangle(2, 8)]\n",
    "\n",
    "for shape in shapes:\n",
    "    print(\"Area of {}: {}\".format(type(shape).__name__, shape.area()))"
   ]
  },
  {
   "cell_type": "markdown",
   "metadata": {},
   "source": [
    "3. Liskov Substitution Priniciple"
   ]
  },
  {
   "cell_type": "code",
   "execution_count": 5,
   "metadata": {},
   "outputs": [
    {
     "name": "stdout",
     "output_type": "stream",
     "text": [
      "This is food.\n",
      "Pizza is made of cheese and tomatoes.\n"
     ]
    }
   ],
   "source": [
    "class Food:\n",
    "    def describe(self):\n",
    "        return \"This is food.\"\n",
    "\n",
    "\n",
    "class Pizza(Food):\n",
    "    def describe(self):\n",
    "        return \"Pizza is made of cheese and tomatoes.\"\n",
    "\n",
    "\n",
    "def serveFood(food):\n",
    "    return food.describe()\n",
    "\n",
    "\n",
    "if __name__ == '__main__':\n",
    "    anyFood = Food()\n",
    "    pizza = Pizza()\n",
    "\n",
    "    print(serveFood(anyFood))\n",
    "    print(serveFood(pizza))\n"
   ]
  },
  {
   "cell_type": "markdown",
   "metadata": {},
   "source": [
    "4. Interface Segregation Principle"
   ]
  },
  {
   "cell_type": "code",
   "execution_count": 3,
   "metadata": {},
   "outputs": [
    {
     "name": "stdout",
     "output_type": "stream",
     "text": [
      "You eat the healthy salad.\n",
      "You eat the yummy pizza.\n"
     ]
    }
   ],
   "source": [
    "class Edible:\n",
    "    def eat(self):\n",
    "        pass\n",
    "\n",
    "class Salad(Edible):\n",
    "    def eat(self):\n",
    "        return \"You eat the healthy salad.\"\n",
    "\n",
    "class Pizza(Edible):\n",
    "    def eat(self):\n",
    "        return \"You eat the yummy pizza.\"\n",
    "\n",
    "\n",
    "class InedibleFood:\n",
    "    pass\n",
    "\n",
    "\n",
    "if __name__ == '__main__':\n",
    "    salad = Salad()\n",
    "    pizza = Pizza()\n",
    "    inedibleFood = InedibleFood()\n",
    "\n",
    "    print(salad.eat())\n",
    "    print(pizza.eat())\n"
   ]
  },
  {
   "cell_type": "markdown",
   "metadata": {},
   "source": [
    "5. Dependency Inversion Principle"
   ]
  },
  {
   "cell_type": "code",
   "execution_count": 7,
   "metadata": {},
   "outputs": [
    {
     "name": "stdout",
     "output_type": "stream",
     "text": [
      "The oven is baking your pizza.\n"
     ]
    }
   ],
   "source": [
    "class Oven:\n",
    "    def bake(self):\n",
    "        return \"The oven is baking your pizza.\"\n",
    "\n",
    "class StartControl:\n",
    "    def __init__(self, appliance):\n",
    "        self.appliance = appliance\n",
    "\n",
    "    def start(self):\n",
    "        return self.appliance.bake()\n",
    "\n",
    "if __name__ == '__main__':\n",
    "    kitchenOven = Oven()\n",
    "    startButton = StartControl(kitchenOven)\n",
    "\n",
    "    print(startButton.start()) \n"
   ]
  }
 ],
 "metadata": {
  "kernelspec": {
   "display_name": "base",
   "language": "python",
   "name": "python3"
  },
  "language_info": {
   "codemirror_mode": {
    "name": "ipython",
    "version": 3
   },
   "file_extension": ".py",
   "mimetype": "text/x-python",
   "name": "python",
   "nbconvert_exporter": "python",
   "pygments_lexer": "ipython3",
   "version": "3.10.0"
  },
  "orig_nbformat": 4
 },
 "nbformat": 4,
 "nbformat_minor": 2
}
